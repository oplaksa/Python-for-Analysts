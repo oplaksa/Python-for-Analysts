{
 "cells": [
  {
   "cell_type": "code",
   "execution_count": null,
   "metadata": {
    "collapsed": true
   },
   "outputs": [],
   "source": []
  },
  {
   "cell_type": "markdown",
   "metadata": {},
   "source": [
    "# Python for Analysts Training - home work OPL"
   ]
  },
  {
   "cell_type": "code",
   "execution_count": null,
   "metadata": {
    "collapsed": true
   },
   "outputs": [],
   "source": []
  },
  {
   "cell_type": "markdown",
   "metadata": {},
   "source": [
    "Day 1 after 15:00 course material and Day 2 material. "
   ]
  },
  {
   "cell_type": "markdown",
   "metadata": {},
   "source": []
  },
  {
   "cell_type": "markdown",
   "metadata": {},
   "source": []
  },
  {
   "cell_type": "markdown",
   "metadata": {},
   "source": [
    "##  Course Material"
   ]
  },
  {
   "cell_type": "markdown",
   "metadata": {},
   "source": [
    "\n",
    "\n",
    "## Day 1-2:\n",
    "\n",
    "### <b>Basics</b> \n",
    "\n",
    "In the classroom\n",
    "* Interfacing with Python\n",
    "* Basic Python Sytnax\n",
    "* Data Structures\n",
    "* Coding concepts\n",
    "\n",
    "Home work:\n",
    "* Looping - exersice is done\n",
    "* Enhancing Python with Packages\n",
    "\n",
    "### <b>Working with data</b>\n",
    "\n",
    "* Data Analysis Libraries\n",
    "* Advanced Data Structures\n",
    "* Importing / Exporting Data\n",
    "* Working with DataFrames\n",
    "* Summary Statistics\n",
    "* Tables\n",
    "\n",
    "### <b>Visualisation</b>\n",
    "\n",
    "* Static Visualisation\n",
    "* Statistical Visualisation\n",
    "* Interactive Visualisation\n"
   ]
  },
  {
   "cell_type": "markdown",
   "metadata": {},
   "source": []
  },
  {
   "cell_type": "markdown",
   "metadata": {},
   "source": []
  },
  {
   "cell_type": "markdown",
   "metadata": {},
   "source": []
  },
  {
   "cell_type": "markdown",
   "metadata": {},
   "source": []
  },
  {
   "cell_type": "markdown",
   "metadata": {},
   "source": []
  }
 ],
 "metadata": {
  "anaconda-cloud": {},
  "kernelspec": {
   "display_name": "Python [default]",
   "language": "python",
   "name": "python3"
  },
  "language_info": {
   "codemirror_mode": {
    "name": "ipython",
    "version": 3
   },
   "file_extension": ".py",
   "mimetype": "text/x-python",
   "name": "python",
   "nbconvert_exporter": "python",
   "pygments_lexer": "ipython3",
   "version": "3.5.2"
  }
 },
 "nbformat": 4,
 "nbformat_minor": 0
}
