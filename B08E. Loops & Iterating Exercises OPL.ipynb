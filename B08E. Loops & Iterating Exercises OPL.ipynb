{
 "cells": [
  {
   "cell_type": "markdown",
   "metadata": {},
   "source": [
    "# B08E: Loops & Iterating Exercises"
   ]
  },
  {
   "cell_type": "markdown",
   "metadata": {
    "collapsed": true
   },
   "source": [
    "#### Exercise 1: Create a for loop that takes each item in list1, multiplies it by the multiply variable, adds the add variable and then divides by the divide variable. Then append the output to the answers list. Print the completed answers list."
   ]
  },
  {
   "cell_type": "code",
   "execution_count": 1,
   "metadata": {
    "collapsed": true
   },
   "outputs": [],
   "source": [
    "list1 = [2,4,6,1,6,7,8,4,3,10]\n",
    "multiply = 3\n",
    "add = 4\n",
    "divide = 2.89\n",
    "\n",
    "answers = []"
   ]
  },
  {
   "cell_type": "code",
   "execution_count": 2,
   "metadata": {
    "collapsed": false
   },
   "outputs": [],
   "source": [
    "for item in list1:\n",
    "    item = item * multiply\n",
    "    item = item + add\n",
    "    item = item /divide\n",
    "    answers.append(item) \n",
    "    \n",
    "    "
   ]
  },
  {
   "cell_type": "code",
   "execution_count": 3,
   "metadata": {
    "collapsed": false
   },
   "outputs": [
    {
     "name": "stdout",
     "output_type": "stream",
     "text": [
      "[3.460207612456747, 5.536332179930795, 7.612456747404844, 2.422145328719723, 7.612456747404844, 8.650519031141869, 9.688581314878892, 5.536332179930795, 4.498269896193771, 11.76470588235294]\n"
     ]
    }
   ],
   "source": [
    "print(answers)"
   ]
  },
  {
   "cell_type": "markdown",
   "metadata": {},
   "source": [
    "#### Exercise 2: Create a while loop that prints the value of i as long as it is less than 100 and increases i by 10 for each iteration."
   ]
  },
  {
   "cell_type": "code",
   "execution_count": 4,
   "metadata": {
    "collapsed": false
   },
   "outputs": [
    {
     "name": "stdout",
     "output_type": "stream",
     "text": [
      "0\n",
      "10\n",
      "20\n",
      "30\n",
      "40\n",
      "50\n",
      "60\n",
      "70\n",
      "80\n",
      "90\n",
      "100\n"
     ]
    }
   ],
   "source": [
    "i = 0\n",
    "while i<=100:\n",
    "    print(i)\n",
    "    i=i+10"
   ]
  },
  {
   "cell_type": "code",
   "execution_count": null,
   "metadata": {
    "collapsed": false
   },
   "outputs": [],
   "source": []
  },
  {
   "cell_type": "markdown",
   "metadata": {},
   "source": [
    "#### Exercise 3: Use a list comprehension to create a new list containing the values in list2 squared."
   ]
  },
  {
   "cell_type": "code",
   "execution_count": 8,
   "metadata": {
    "collapsed": true
   },
   "outputs": [],
   "source": [
    "mylist2 = [132,5345,63576,234234,64563,234,745,98679,344535,467568,36,3456,457,67,3456,3456,567,47,48,26]"
   ]
  },
  {
   "cell_type": "code",
   "execution_count": 11,
   "metadata": {
    "collapsed": false
   },
   "outputs": [
    {
     "name": "stdout",
     "output_type": "stream",
     "text": [
      "[17424, 28569025, 4041907776, 54865566756, 4168380969, 54756, 555025, 9737545041, 118704366225, 218619834624, 1296, 11943936, 208849, 4489, 11943936, 11943936, 321489, 2209, 2304, 676]\n"
     ]
    }
   ],
   "source": [
    "mylist3 =[item*item for item in mylist2]\n",
    "print(mylist3)"
   ]
  },
  {
   "cell_type": "code",
   "execution_count": null,
   "metadata": {
    "collapsed": true
   },
   "outputs": [],
   "source": []
  },
  {
   "cell_type": "markdown",
   "metadata": {
    "collapsed": false
   },
   "source": [
    "#### Exercise 4: Create an iterator that iterates through list3, converting types or passing where appropriate."
   ]
  },
  {
   "cell_type": "code",
   "execution_count": 28,
   "metadata": {
    "collapsed": true
   },
   "outputs": [],
   "source": [
    "list3 = [1,2,3,4,'5',6,7,'8',9,True,10,'11',False,None]\n",
    "var = 0"
   ]
  },
  {
   "cell_type": "code",
   "execution_count": 29,
   "metadata": {
    "collapsed": false
   },
   "outputs": [
    {
     "name": "stdout",
     "output_type": "stream",
     "text": [
      "1\n",
      "2\n",
      "3\n",
      "4\n",
      "6\n",
      "7\n",
      "9\n",
      "10\n"
     ]
    }
   ],
   "source": [
    "  '''prints all the integers from the list list3'''\n",
    "for item in list3:\n",
    "    if type(item)==int:\n",
    "        print(item) \n",
    "    "
   ]
  },
  {
   "cell_type": "code",
   "execution_count": 45,
   "metadata": {
    "collapsed": false
   },
   "outputs": [
    {
     "name": "stdout",
     "output_type": "stream",
     "text": [
      "1\n",
      "2\n",
      "3\n",
      "4\n",
      "<class 'str'> 5\n",
      "the item was  5\n",
      "6\n",
      "7\n",
      "<class 'str'> 8\n",
      "the item was  8\n",
      "9\n",
      "<class 'bool'> True\n",
      "the item was  1\n",
      "10\n",
      "<class 'str'> 11\n",
      "the item was  11\n",
      "<class 'bool'> False\n",
      "the item was  0\n",
      "<class 'NoneType'> None\n"
     ]
    }
   ],
   "source": [
    " '''prints all the integers from the list list3\n",
    "     and stings converted into integers, including the type of string \n",
    " '''\n",
    "for item in list3:\n",
    "    if type(item)==int:\n",
    "        print(item) \n",
    "    else:        \n",
    "        print(type(item), item)\n",
    "        #print(int(item))\n",
    "        try:\n",
    "            item=int(item)\n",
    "            print(\"the item was \",  item)\n",
    "        except TypeError:\n",
    "            pass \n",
    "    "
   ]
  },
  {
   "cell_type": "code",
   "execution_count": 43,
   "metadata": {
    "collapsed": false
   },
   "outputs": [
    {
     "name": "stdout",
     "output_type": "stream",
     "text": [
      "1\n",
      "2\n",
      "3\n",
      "4\n",
      "5  where the item type was  <class 'str'>\n",
      "6\n",
      "7\n",
      "8  where the item type was  <class 'str'>\n",
      "9\n",
      "1  where the item type was  <class 'bool'>\n",
      "10\n",
      "11  where the item type was  <class 'str'>\n",
      "0  where the item type was  <class 'bool'>\n"
     ]
    },
    {
     "ename": "TypeError",
     "evalue": "int() argument must be a string, a bytes-like object or a number, not 'NoneType'",
     "output_type": "error",
     "traceback": [
      "\u001b[0;31m---------------------------------------------------------------------------\u001b[0m",
      "\u001b[0;31mTypeError\u001b[0m                                 Traceback (most recent call last)",
      "\u001b[0;32m<ipython-input-43-c3c1168a20dc>\u001b[0m in \u001b[0;36m<module>\u001b[0;34m()\u001b[0m\n\u001b[1;32m      6\u001b[0m        \u001b[0mprint\u001b[0m\u001b[0;34m(\u001b[0m\u001b[0mitem\u001b[0m\u001b[0;34m)\u001b[0m\u001b[0;34m\u001b[0m\u001b[0m\n\u001b[1;32m      7\u001b[0m    \u001b[0;32melse\u001b[0m\u001b[0;34m:\u001b[0m\u001b[0;34m\u001b[0m\u001b[0m\n\u001b[0;32m----> 8\u001b[0;31m        \u001b[0mprint\u001b[0m\u001b[0;34m(\u001b[0m\u001b[0mint\u001b[0m\u001b[0;34m(\u001b[0m\u001b[0mitem\u001b[0m\u001b[0;34m)\u001b[0m\u001b[0;34m,\u001b[0m\u001b[0;34m\" where the item type was \"\u001b[0m\u001b[0;34m,\u001b[0m \u001b[0mtype\u001b[0m\u001b[0;34m(\u001b[0m\u001b[0mitem\u001b[0m\u001b[0;34m)\u001b[0m\u001b[0;34m)\u001b[0m\u001b[0;34m\u001b[0m\u001b[0m\n\u001b[0m\u001b[1;32m      9\u001b[0m        \u001b[0;31m#print(int(item))\u001b[0m\u001b[0;34m\u001b[0m\u001b[0;34m\u001b[0m\u001b[0m\n\u001b[1;32m     10\u001b[0m        \u001b[0;32mtry\u001b[0m\u001b[0;34m:\u001b[0m\u001b[0;34m\u001b[0m\u001b[0m\n",
      "\u001b[0;31mTypeError\u001b[0m: int() argument must be a string, a bytes-like object or a number, not 'NoneType'"
     ]
    }
   ],
   "source": [
    " '''prints all the integers from the list list3\n",
    "     and stings converted into integers, and passes all other types \n",
    " '''\n",
    "for item in list3:\n",
    "    if type(item)==int:\n",
    "        print(item) \n",
    "    else:        \n",
    "        print(int(item),\" where the item type was \", type(item))\n",
    "        #print(int(item))\n",
    "        try:\n",
    "            item=int(item)\n",
    "            print(\"the item was \" + item)\n",
    "        except TypeError:\n",
    "            pass "
   ]
  },
  {
   "cell_type": "code",
   "execution_count": 47,
   "metadata": {
    "collapsed": false
   },
   "outputs": [
    {
     "name": "stdout",
     "output_type": "stream",
     "text": [
      "1\n",
      "2\n",
      "3\n",
      "4\n",
      "5  where the item type was  <class 'str'>\n",
      "6\n",
      "7\n",
      "8  where the item type was  <class 'str'>\n",
      "9\n",
      "1  where the item type was  <class 'bool'>\n",
      "10\n",
      "11  where the item type was  <class 'str'>\n",
      "0  where the item type was  <class 'bool'>\n"
     ]
    }
   ],
   "source": [
    " '''prints all the integers from the list list3\n",
    "     and stings converted into integers, and passes all other types \n",
    " '''\n",
    "for item in list3:\n",
    "    try: \n",
    "        if type(item)==int:\n",
    "            print(item) \n",
    "        else:        \n",
    "            print(int(item),\" where the item type was \", type(item))\n",
    "    except TypeError:\n",
    "        pass "
   ]
  },
  {
   "cell_type": "code",
   "execution_count": null,
   "metadata": {
    "collapsed": true
   },
   "outputs": [],
   "source": []
  }
 ],
 "metadata": {
  "anaconda-cloud": {},
  "kernelspec": {
   "display_name": "Python [default]",
   "language": "python",
   "name": "python3"
  },
  "language_info": {
   "codemirror_mode": {
    "name": "ipython",
    "version": 3
   },
   "file_extension": ".py",
   "mimetype": "text/x-python",
   "name": "python",
   "nbconvert_exporter": "python",
   "pygments_lexer": "ipython3",
   "version": "3.5.2"
  }
 },
 "nbformat": 4,
 "nbformat_minor": 0
}
